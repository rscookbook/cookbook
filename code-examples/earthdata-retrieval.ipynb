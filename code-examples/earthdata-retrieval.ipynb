{
 "cells": [
  {
   "cell_type": "markdown",
   "id": "289d4d62",
   "metadata": {},
   "source": [
    "Retreiving Earthdata products using Python with shapefile"
   ]
  },
  {
   "cell_type": "code",
   "execution_count": null,
   "id": "285f85cc",
   "metadata": {
    "vscode": {
     "languageId": "plaintext"
    }
   },
   "outputs": [],
   "source": [
    "import geopandas as gpd\n",
    "import earthaccess\n",
    "import xarray as xr\n",
    "import fnmatch\n",
    "import numpy as np\n",
    "import os\n",
    "from shapely.geometry import Point\n",
    "from shapely.geometry import shape\n",
    "from shapely import vectorized"
   ]
  },
  {
   "cell_type": "code",
   "execution_count": null,
   "id": "1c85bb09",
   "metadata": {
    "vscode": {
     "languageId": "plaintext"
    }
   },
   "outputs": [],
   "source": [
    "auth = earthaccess.login(strategy= \"interactive\", persist=True)\n",
    "\n",
    "earthaccess.login()"
   ]
  },
  {
   "cell_type": "code",
   "execution_count": null,
   "id": "0a2da013",
   "metadata": {
    "vscode": {
     "languageId": "plaintext"
    }
   },
   "outputs": [],
   "source": [
    "results = earthaccess.search_data(\n",
    "    short_name= 'SWOT_L2_HR_PIXC_2.0)', # Product name\n",
    "    bounding_box= (-114, 62, -115, 63), # Coordinates of bounding box\n",
    "    temporal= (\"2024-01\", \"2025-01\"), # Period of time\n",
    "    count=-1)\n",
    "\n",
    "search_word = \"*_330_045R*\"  # Enter granule name, * will search for anything within the phrase\n",
    "\n",
    "filtered_results = [result for result in results if fnmatch.fnmatch(result.data_links()[0], search_word)]\n",
    "\n",
    "files = earthaccess.download(filtered_results, \"./local_folder_01\") \n",
    "\n",
    "downloaded_filenames = [os.path.basename(file_path) for file_path in files]\n",
    "\n",
    "print(\"Downloaded filenames:\")\n",
    "for name in downloaded_filenames:\n",
    "    print(name)"
   ]
  },
  {
   "cell_type": "code",
   "execution_count": null,
   "id": "4f9325e7",
   "metadata": {
    "vscode": {
     "languageId": "plaintext"
    }
   },
   "outputs": [],
   "source": [
    "netcdf_path = r\"local_folder_01/SWOT_L2_HR_PIXC_027_330_045R_20250125T111918_20250125T111929_PIC2_01.nc\"\n",
    "shapefile_path = r\"HydroLAKES_polys_v10_shp/HydroLAKES_polys_v10.shp\"\n",
    "\n",
    "shapefile = gpd.read_file(shapefile_path)\n",
    "lake_poly = shapefile[shapefile['Hylak_id'] == 363]\n",
    "\n",
    "lake_geom = lake_poly.geometry.values[0]\n",
    "\n",
    "ds = xr.open_dataset(netcdf_path, group='pixel_cloud')\n",
    "\n",
    "lat = ds['latitude'].values\n",
    "lon = ds['longitude'].values\n",
    "hgt = ds['height'].values\n",
    "sig = ds['sig0'].values\n",
    "\n",
    "mask = vectorized.contains(lake_geom, lon, lat)\n",
    "\n",
    "filtered_lat = lat[mask]\n",
    "filtered_lon = lon[mask]\n",
    "filtered_hgt = hgt[mask]\n",
    "filtered_sig = sig[mask]\n",
    "\n",
    "filtered_points = gpd.GeoDataFrame({\n",
    "    'longitude': filtered_lon,\n",
    "    'latitude': filtered_lat,\n",
    "    'height': filtered_hgt,\n",
    "    'sig0': filtered_sig\n",
    "}, geometry=[Point(xy) for xy in zip(filtered_lon, filtered_lat)], crs='EPSG:4326')\n",
    "\n",
    "ds.close()"
   ]
  }
 ],
 "metadata": {
  "kernelspec": {
   "display_name": "Python 3 (ipykernel)",
   "language": "python",
   "name": "python3"
  },
  "language_info": {
   "codemirror_mode": {
    "name": "ipython",
    "version": 3
   },
   "file_extension": ".py",
   "mimetype": "text/x-python",
   "name": "python",
   "nbconvert_exporter": "python",
   "pygments_lexer": "ipython3",
   "version": "3.12.2"
  }
 },
 "nbformat": 4,
 "nbformat_minor": 5
}
